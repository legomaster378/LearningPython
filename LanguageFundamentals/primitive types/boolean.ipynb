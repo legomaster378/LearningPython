{
 "cells": [
  {
   "cell_type": "code",
   "execution_count": 3,
   "metadata": {
    "collapsed": true
   },
   "outputs": [
    {
     "name": "stdout",
     "output_type": "stream",
     "text": [
      "test 1 is true\ntest 2 is true\ntest not 0 is true\n"
     ]
    }
   ],
   "source": [
    "# The following values are considered false:\n",
    "# None\n",
    "# False\n",
    "# zero of any numeric type, for example, 0, 0.0, 0j.\n",
    "# any empty sequence, for example, '', (), [].\n",
    "# any empty mapping, for example, {}.\n",
    "# instances of user-defined classes, if the class defines a __bool__() or __len__() method, \n",
    "# when that method returns the integer zero or bool value False. [1]\n",
    "# All other values are considered true — so objects of many types are always true.\n",
    "\n",
    "if 1:\n",
    "    print('test 1 is true')\n",
    "\n",
    "if 2:\n",
    "    print('test 2 is true')\n",
    "    \n",
    "if not 0:\n",
    "    print('test not 0 is true')"
   ]
  },
  {
   "cell_type": "code",
   "execution_count": null,
   "metadata": {},
   "outputs": [],
   "source": [
    ""
   ]
  }
 ],
 "metadata": {
  "kernelspec": {
   "display_name": "Python 2",
   "language": "python",
   "name": "python2"
  },
  "language_info": {
   "codemirror_mode": {
    "name": "ipython",
    "version": 2.0
   },
   "file_extension": ".py",
   "mimetype": "text/x-python",
   "name": "python",
   "nbconvert_exporter": "python",
   "pygments_lexer": "ipython2",
   "version": "2.7.6"
  }
 },
 "nbformat": 4,
 "nbformat_minor": 0
}