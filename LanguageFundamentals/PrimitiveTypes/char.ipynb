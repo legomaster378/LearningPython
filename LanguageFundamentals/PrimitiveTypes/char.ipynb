{
 "cells": [
  {
   "cell_type": "code",
   "execution_count": 5,
   "metadata": {
    "collapsed": true
   },
   "outputs": [
    {
     "name": "stdout",
     "output_type": "stream",
     "text": [
      "a - 97\nb - 98\nc - 99\nd - 100\ne - 101\nf - 102\ng - 103\nh - 104\ni - 105\nj - 106\nk - 107\nl - 108\nm - 109\nn - 110\no - 111\np - 112\nq - 113\nr - 114\ns - 115\nt - 116\nu - 117\nv - 118\nw - 119\nx - 120\ny - 121\nz - 122\nA - 65\nB - 66\nC - 67\nD - 68\nE - 69\nF - 70\nG - 71\nH - 72\nI - 73\nJ - 74\nK - 75\nL - 76\nM - 77\nN - 78\nO - 79\nP - 80\nQ - 81\nR - 82\nS - 83\nT - 84\nU - 85\nV - 86\nW - 87\nX - 88\nY - 89\nZ - 90\n"
     ]
    }
   ],
   "source": [
    "atoz = \"abcdefghijklmnopqrstuvwxyzABCDEFGHIJKLMNOPQRSTUVWXYZ\"\n",
    "for oneChar in atoz:\n",
    "    print(f\"{oneChar} - {ord(oneChar)}\")"
   ]
  },
  {
   "cell_type": "code",
   "execution_count": null,
   "metadata": {},
   "outputs": [],
   "source": [
    ""
   ]
  }
 ],
 "metadata": {
  "kernelspec": {
   "display_name": "Python 2",
   "language": "python",
   "name": "python2"
  },
  "language_info": {
   "codemirror_mode": {
    "name": "ipython",
    "version": 2.0
   },
   "file_extension": ".py",
   "mimetype": "text/x-python",
   "name": "python",
   "nbconvert_exporter": "python",
   "pygments_lexer": "ipython2",
   "version": "2.7.6"
  }
 },
 "nbformat": 4,
 "nbformat_minor": 0
}