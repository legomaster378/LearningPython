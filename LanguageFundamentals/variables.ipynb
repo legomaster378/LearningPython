{
 "cells": [
  {
   "cell_type": "code",
   "execution_count": 3,
   "metadata": {
    "collapsed": true
   },
   "outputs": [
    {
     "name": "stdout",
     "output_type": "stream",
     "text": [
      "1\none\n"
     ]
    }
   ],
   "source": [
    "#print(a)\n",
    "#NameError: name 'a' is not defined\n",
    "\n",
    "a=1;\n",
    "print(a)\n",
    "\n",
    "a='one'\n",
    "print(a)"
   ]
  },
  {
   "cell_type": "code",
   "execution_count": 2,
   "metadata": {},
   "outputs": [
    {
     "name": "stdout",
     "output_type": "stream",
     "text": [
      "4\n"
     ]
    }
   ],
   "source": [
    "a=2++2 #don't use this way\n",
    "print(a)"
   ]
  },
  {
   "cell_type": "code",
   "execution_count": 2,
   "metadata": {},
   "outputs": [
    {
     "data": {
      "text/plain": [
       "['__abs__',\n '__add__',\n '__and__',\n '__bool__',\n '__ceil__',\n '__class__',\n '__delattr__',\n '__dir__',\n '__divmod__',\n '__doc__',\n '__eq__',\n '__float__',\n '__floor__',\n '__floordiv__',\n '__format__',\n '__ge__',\n '__getattribute__',\n '__getnewargs__',\n '__gt__',\n '__hash__',\n '__index__',\n '__init__',\n '__init_subclass__',\n '__int__',\n '__invert__',\n '__le__',\n '__lshift__',\n '__lt__',\n '__mod__',\n '__mul__',\n '__ne__',\n '__neg__',\n '__new__',\n '__or__',\n '__pos__',\n '__pow__',\n '__radd__',\n '__rand__',\n '__rdivmod__',\n '__reduce__',\n '__reduce_ex__',\n '__repr__',\n '__rfloordiv__',\n '__rlshift__',\n '__rmod__',\n '__rmul__',\n '__ror__',\n '__round__',\n '__rpow__',\n '__rrshift__',\n '__rshift__',\n '__rsub__',\n '__rtruediv__',\n '__rxor__',\n '__setattr__',\n '__sizeof__',\n '__str__',\n '__sub__',\n '__subclasshook__',\n '__truediv__',\n '__trunc__',\n '__xor__',\n 'bit_length',\n 'conjugate',\n 'denominator',\n 'from_bytes',\n 'imag',\n 'numerator',\n 'real',\n 'to_bytes']"
      ]
     },
     "execution_count": 2,
     "metadata": {},
     "output_type": "execute_result"
    }
   ],
   "source": [
    "# use dir can list the attribute of the variable\n",
    "# Without arguments, return the list of names in the current local scope. \n",
    "# With an argument, attempt to return a list of valid attributes for that object.\n",
    "a=1\n",
    "# dir(a)"
   ]
  },
  {
   "cell_type": "code",
   "execution_count": 6,
   "metadata": {},
   "outputs": [],
   "source": [
    "a = \"1\"\n",
    "# dir(a)"
   ]
  },
  {
   "cell_type": "code",
   "execution_count": 7,
   "metadata": {},
   "outputs": [],
   "source": [
    "a = True\n",
    "# dir(a)"
   ]
  },
  {
   "cell_type": "code",
   "execution_count": 5,
   "metadata": {},
   "outputs": [
    {
     "data": {
      "text/plain": [
       "{'In': ['',\n  'dir(a)',\n  'a=1\\ndir(a)',\n  'a = \"1\"\\ndir(a)',\n  'a = True\\ndir(a)',\n  'locals()'],\n 'Out': {2: ['__abs__',\n   '__add__',\n   '__and__',\n   '__bool__',\n   '__ceil__',\n   '__class__',\n   '__delattr__',\n   '__dir__',\n   '__divmod__',\n   '__doc__',\n   '__eq__',\n   '__float__',\n   '__floor__',\n   '__floordiv__',\n   '__format__',\n   '__ge__',\n   '__getattribute__',\n   '__getnewargs__',\n   '__gt__',\n   '__hash__',\n   '__index__',\n   '__init__',\n   '__init_subclass__',\n   '__int__',\n   '__invert__',\n   '__le__',\n   '__lshift__',\n   '__lt__',\n   '__mod__',\n   '__mul__',\n   '__ne__',\n   '__neg__',\n   '__new__',\n   '__or__',\n   '__pos__',\n   '__pow__',\n   '__radd__',\n   '__rand__',\n   '__rdivmod__',\n   '__reduce__',\n   '__reduce_ex__',\n   '__repr__',\n   '__rfloordiv__',\n   '__rlshift__',\n   '__rmod__',\n   '__rmul__',\n   '__ror__',\n   '__round__',\n   '__rpow__',\n   '__rrshift__',\n   '__rshift__',\n   '__rsub__',\n   '__rtruediv__',\n   '__rxor__',\n   '__setattr__',\n   '__sizeof__',\n   '__str__',\n   '__sub__',\n   '__subclasshook__',\n   '__truediv__',\n   '__trunc__',\n   '__xor__',\n   'bit_length',\n   'conjugate',\n   'denominator',\n   'from_bytes',\n   'imag',\n   'numerator',\n   'real',\n   'to_bytes'],\n  3: ['__add__',\n   '__class__',\n   '__contains__',\n   '__delattr__',\n   '__dir__',\n   '__doc__',\n   '__eq__',\n   '__format__',\n   '__ge__',\n   '__getattribute__',\n   '__getitem__',\n   '__getnewargs__',\n   '__gt__',\n   '__hash__',\n   '__init__',\n   '__init_subclass__',\n   '__iter__',\n   '__le__',\n   '__len__',\n   '__lt__',\n   '__mod__',\n   '__mul__',\n   '__ne__',\n   '__new__',\n   '__reduce__',\n   '__reduce_ex__',\n   '__repr__',\n   '__rmod__',\n   '__rmul__',\n   '__setattr__',\n   '__sizeof__',\n   '__str__',\n   '__subclasshook__',\n   'capitalize',\n   'casefold',\n   'center',\n   'count',\n   'encode',\n   'endswith',\n   'expandtabs',\n   'find',\n   'format',\n   'format_map',\n   'index',\n   'isalnum',\n   'isalpha',\n   'isdecimal',\n   'isdigit',\n   'isidentifier',\n   'islower',\n   'isnumeric',\n   'isprintable',\n   'isspace',\n   'istitle',\n   'isupper',\n   'join',\n   'ljust',\n   'lower',\n   'lstrip',\n   'maketrans',\n   'partition',\n   'replace',\n   'rfind',\n   'rindex',\n   'rjust',\n   'rpartition',\n   'rsplit',\n   'rstrip',\n   'split',\n   'splitlines',\n   'startswith',\n   'strip',\n   'swapcase',\n   'title',\n   'translate',\n   'upper',\n   'zfill'],\n  4: ['__abs__',\n   '__add__',\n   '__and__',\n   '__bool__',\n   '__ceil__',\n   '__class__',\n   '__delattr__',\n   '__dir__',\n   '__divmod__',\n   '__doc__',\n   '__eq__',\n   '__float__',\n   '__floor__',\n   '__floordiv__',\n   '__format__',\n   '__ge__',\n   '__getattribute__',\n   '__getnewargs__',\n   '__gt__',\n   '__hash__',\n   '__index__',\n   '__init__',\n   '__init_subclass__',\n   '__int__',\n   '__invert__',\n   '__le__',\n   '__lshift__',\n   '__lt__',\n   '__mod__',\n   '__mul__',\n   '__ne__',\n   '__neg__',\n   '__new__',\n   '__or__',\n   '__pos__',\n   '__pow__',\n   '__radd__',\n   '__rand__',\n   '__rdivmod__',\n   '__reduce__',\n   '__reduce_ex__',\n   '__repr__',\n   '__rfloordiv__',\n   '__rlshift__',\n   '__rmod__',\n   '__rmul__',\n   '__ror__',\n   '__round__',\n   '__rpow__',\n   '__rrshift__',\n   '__rshift__',\n   '__rsub__',\n   '__rtruediv__',\n   '__rxor__',\n   '__setattr__',\n   '__sizeof__',\n   '__str__',\n   '__sub__',\n   '__subclasshook__',\n   '__truediv__',\n   '__trunc__',\n   '__xor__',\n   'bit_length',\n   'conjugate',\n   'denominator',\n   'from_bytes',\n   'imag',\n   'numerator',\n   'real',\n   'to_bytes']},\n '_': ['__abs__',\n  '__add__',\n  '__and__',\n  '__bool__',\n  '__ceil__',\n  '__class__',\n  '__delattr__',\n  '__dir__',\n  '__divmod__',\n  '__doc__',\n  '__eq__',\n  '__float__',\n  '__floor__',\n  '__floordiv__',\n  '__format__',\n  '__ge__',\n  '__getattribute__',\n  '__getnewargs__',\n  '__gt__',\n  '__hash__',\n  '__index__',\n  '__init__',\n  '__init_subclass__',\n  '__int__',\n  '__invert__',\n  '__le__',\n  '__lshift__',\n  '__lt__',\n  '__mod__',\n  '__mul__',\n  '__ne__',\n  '__neg__',\n  '__new__',\n  '__or__',\n  '__pos__',\n  '__pow__',\n  '__radd__',\n  '__rand__',\n  '__rdivmod__',\n  '__reduce__',\n  '__reduce_ex__',\n  '__repr__',\n  '__rfloordiv__',\n  '__rlshift__',\n  '__rmod__',\n  '__rmul__',\n  '__ror__',\n  '__round__',\n  '__rpow__',\n  '__rrshift__',\n  '__rshift__',\n  '__rsub__',\n  '__rtruediv__',\n  '__rxor__',\n  '__setattr__',\n  '__sizeof__',\n  '__str__',\n  '__sub__',\n  '__subclasshook__',\n  '__truediv__',\n  '__trunc__',\n  '__xor__',\n  'bit_length',\n  'conjugate',\n  'denominator',\n  'from_bytes',\n  'imag',\n  'numerator',\n  'real',\n  'to_bytes'],\n '_2': ['__abs__',\n  '__add__',\n  '__and__',\n  '__bool__',\n  '__ceil__',\n  '__class__',\n  '__delattr__',\n  '__dir__',\n  '__divmod__',\n  '__doc__',\n  '__eq__',\n  '__float__',\n  '__floor__',\n  '__floordiv__',\n  '__format__',\n  '__ge__',\n  '__getattribute__',\n  '__getnewargs__',\n  '__gt__',\n  '__hash__',\n  '__index__',\n  '__init__',\n  '__init_subclass__',\n  '__int__',\n  '__invert__',\n  '__le__',\n  '__lshift__',\n  '__lt__',\n  '__mod__',\n  '__mul__',\n  '__ne__',\n  '__neg__',\n  '__new__',\n  '__or__',\n  '__pos__',\n  '__pow__',\n  '__radd__',\n  '__rand__',\n  '__rdivmod__',\n  '__reduce__',\n  '__reduce_ex__',\n  '__repr__',\n  '__rfloordiv__',\n  '__rlshift__',\n  '__rmod__',\n  '__rmul__',\n  '__ror__',\n  '__round__',\n  '__rpow__',\n  '__rrshift__',\n  '__rshift__',\n  '__rsub__',\n  '__rtruediv__',\n  '__rxor__',\n  '__setattr__',\n  '__sizeof__',\n  '__str__',\n  '__sub__',\n  '__subclasshook__',\n  '__truediv__',\n  '__trunc__',\n  '__xor__',\n  'bit_length',\n  'conjugate',\n  'denominator',\n  'from_bytes',\n  'imag',\n  'numerator',\n  'real',\n  'to_bytes'],\n '_3': ['__add__',\n  '__class__',\n  '__contains__',\n  '__delattr__',\n  '__dir__',\n  '__doc__',\n  '__eq__',\n  '__format__',\n  '__ge__',\n  '__getattribute__',\n  '__getitem__',\n  '__getnewargs__',\n  '__gt__',\n  '__hash__',\n  '__init__',\n  '__init_subclass__',\n  '__iter__',\n  '__le__',\n  '__len__',\n  '__lt__',\n  '__mod__',\n  '__mul__',\n  '__ne__',\n  '__new__',\n  '__reduce__',\n  '__reduce_ex__',\n  '__repr__',\n  '__rmod__',\n  '__rmul__',\n  '__setattr__',\n  '__sizeof__',\n  '__str__',\n  '__subclasshook__',\n  'capitalize',\n  'casefold',\n  'center',\n  'count',\n  'encode',\n  'endswith',\n  'expandtabs',\n  'find',\n  'format',\n  'format_map',\n  'index',\n  'isalnum',\n  'isalpha',\n  'isdecimal',\n  'isdigit',\n  'isidentifier',\n  'islower',\n  'isnumeric',\n  'isprintable',\n  'isspace',\n  'istitle',\n  'isupper',\n  'join',\n  'ljust',\n  'lower',\n  'lstrip',\n  'maketrans',\n  'partition',\n  'replace',\n  'rfind',\n  'rindex',\n  'rjust',\n  'rpartition',\n  'rsplit',\n  'rstrip',\n  'split',\n  'splitlines',\n  'startswith',\n  'strip',\n  'swapcase',\n  'title',\n  'translate',\n  'upper',\n  'zfill'],\n '_4': ['__abs__',\n  '__add__',\n  '__and__',\n  '__bool__',\n  '__ceil__',\n  '__class__',\n  '__delattr__',\n  '__dir__',\n  '__divmod__',\n  '__doc__',\n  '__eq__',\n  '__float__',\n  '__floor__',\n  '__floordiv__',\n  '__format__',\n  '__ge__',\n  '__getattribute__',\n  '__getnewargs__',\n  '__gt__',\n  '__hash__',\n  '__index__',\n  '__init__',\n  '__init_subclass__',\n  '__int__',\n  '__invert__',\n  '__le__',\n  '__lshift__',\n  '__lt__',\n  '__mod__',\n  '__mul__',\n  '__ne__',\n  '__neg__',\n  '__new__',\n  '__or__',\n  '__pos__',\n  '__pow__',\n  '__radd__',\n  '__rand__',\n  '__rdivmod__',\n  '__reduce__',\n  '__reduce_ex__',\n  '__repr__',\n  '__rfloordiv__',\n  '__rlshift__',\n  '__rmod__',\n  '__rmul__',\n  '__ror__',\n  '__round__',\n  '__rpow__',\n  '__rrshift__',\n  '__rshift__',\n  '__rsub__',\n  '__rtruediv__',\n  '__rxor__',\n  '__setattr__',\n  '__sizeof__',\n  '__str__',\n  '__sub__',\n  '__subclasshook__',\n  '__truediv__',\n  '__trunc__',\n  '__xor__',\n  'bit_length',\n  'conjugate',\n  'denominator',\n  'from_bytes',\n  'imag',\n  'numerator',\n  'real',\n  'to_bytes'],\n '__': ['__add__',\n  '__class__',\n  '__contains__',\n  '__delattr__',\n  '__dir__',\n  '__doc__',\n  '__eq__',\n  '__format__',\n  '__ge__',\n  '__getattribute__',\n  '__getitem__',\n  '__getnewargs__',\n  '__gt__',\n  '__hash__',\n  '__init__',\n  '__init_subclass__',\n  '__iter__',\n  '__le__',\n  '__len__',\n  '__lt__',\n  '__mod__',\n  '__mul__',\n  '__ne__',\n  '__new__',\n  '__reduce__',\n  '__reduce_ex__',\n  '__repr__',\n  '__rmod__',\n  '__rmul__',\n  '__setattr__',\n  '__sizeof__',\n  '__str__',\n  '__subclasshook__',\n  'capitalize',\n  'casefold',\n  'center',\n  'count',\n  'encode',\n  'endswith',\n  'expandtabs',\n  'find',\n  'format',\n  'format_map',\n  'index',\n  'isalnum',\n  'isalpha',\n  'isdecimal',\n  'isdigit',\n  'isidentifier',\n  'islower',\n  'isnumeric',\n  'isprintable',\n  'isspace',\n  'istitle',\n  'isupper',\n  'join',\n  'ljust',\n  'lower',\n  'lstrip',\n  'maketrans',\n  'partition',\n  'replace',\n  'rfind',\n  'rindex',\n  'rjust',\n  'rpartition',\n  'rsplit',\n  'rstrip',\n  'split',\n  'splitlines',\n  'startswith',\n  'strip',\n  'swapcase',\n  'title',\n  'translate',\n  'upper',\n  'zfill'],\n '___': ['__abs__',\n  '__add__',\n  '__and__',\n  '__bool__',\n  '__ceil__',\n  '__class__',\n  '__delattr__',\n  '__dir__',\n  '__divmod__',\n  '__doc__',\n  '__eq__',\n  '__float__',\n  '__floor__',\n  '__floordiv__',\n  '__format__',\n  '__ge__',\n  '__getattribute__',\n  '__getnewargs__',\n  '__gt__',\n  '__hash__',\n  '__index__',\n  '__init__',\n  '__init_subclass__',\n  '__int__',\n  '__invert__',\n  '__le__',\n  '__lshift__',\n  '__lt__',\n  '__mod__',\n  '__mul__',\n  '__ne__',\n  '__neg__',\n  '__new__',\n  '__or__',\n  '__pos__',\n  '__pow__',\n  '__radd__',\n  '__rand__',\n  '__rdivmod__',\n  '__reduce__',\n  '__reduce_ex__',\n  '__repr__',\n  '__rfloordiv__',\n  '__rlshift__',\n  '__rmod__',\n  '__rmul__',\n  '__ror__',\n  '__round__',\n  '__rpow__',\n  '__rrshift__',\n  '__rshift__',\n  '__rsub__',\n  '__rtruediv__',\n  '__rxor__',\n  '__setattr__',\n  '__sizeof__',\n  '__str__',\n  '__sub__',\n  '__subclasshook__',\n  '__truediv__',\n  '__trunc__',\n  '__xor__',\n  'bit_length',\n  'conjugate',\n  'denominator',\n  'from_bytes',\n  'imag',\n  'numerator',\n  'real',\n  'to_bytes'],\n '__builtin__': <module 'builtins' (built-in)>,\n '__builtins__': <module 'builtins' (built-in)>,\n '__doc__': 'Automatically created module for IPython interactive environment',\n '__loader__': None,\n '__name__': '__main__',\n '__package__': None,\n '__spec__': None,\n '_dh': ['C:\\\\GitHub\\\\LearningPython'],\n '_i': 'a = True\\ndir(a)',\n '_i1': 'dir(a)',\n '_i2': 'a=1\\ndir(a)',\n '_i3': 'a = \"1\"\\ndir(a)',\n '_i4': 'a = True\\ndir(a)',\n '_i5': 'locals()',\n '_ih': ['',\n  'dir(a)',\n  'a=1\\ndir(a)',\n  'a = \"1\"\\ndir(a)',\n  'a = True\\ndir(a)',\n  'locals()'],\n '_ii': 'a = \"1\"\\ndir(a)',\n '_iii': 'a=1\\ndir(a)',\n '_oh': {2: ['__abs__',\n   '__add__',\n   '__and__',\n   '__bool__',\n   '__ceil__',\n   '__class__',\n   '__delattr__',\n   '__dir__',\n   '__divmod__',\n   '__doc__',\n   '__eq__',\n   '__float__',\n   '__floor__',\n   '__floordiv__',\n   '__format__',\n   '__ge__',\n   '__getattribute__',\n   '__getnewargs__',\n   '__gt__',\n   '__hash__',\n   '__index__',\n   '__init__',\n   '__init_subclass__',\n   '__int__',\n   '__invert__',\n   '__le__',\n   '__lshift__',\n   '__lt__',\n   '__mod__',\n   '__mul__',\n   '__ne__',\n   '__neg__',\n   '__new__',\n   '__or__',\n   '__pos__',\n   '__pow__',\n   '__radd__',\n   '__rand__',\n   '__rdivmod__',\n   '__reduce__',\n   '__reduce_ex__',\n   '__repr__',\n   '__rfloordiv__',\n   '__rlshift__',\n   '__rmod__',\n   '__rmul__',\n   '__ror__',\n   '__round__',\n   '__rpow__',\n   '__rrshift__',\n   '__rshift__',\n   '__rsub__',\n   '__rtruediv__',\n   '__rxor__',\n   '__setattr__',\n   '__sizeof__',\n   '__str__',\n   '__sub__',\n   '__subclasshook__',\n   '__truediv__',\n   '__trunc__',\n   '__xor__',\n   'bit_length',\n   'conjugate',\n   'denominator',\n   'from_bytes',\n   'imag',\n   'numerator',\n   'real',\n   'to_bytes'],\n  3: ['__add__',\n   '__class__',\n   '__contains__',\n   '__delattr__',\n   '__dir__',\n   '__doc__',\n   '__eq__',\n   '__format__',\n   '__ge__',\n   '__getattribute__',\n   '__getitem__',\n   '__getnewargs__',\n   '__gt__',\n   '__hash__',\n   '__init__',\n   '__init_subclass__',\n   '__iter__',\n   '__le__',\n   '__len__',\n   '__lt__',\n   '__mod__',\n   '__mul__',\n   '__ne__',\n   '__new__',\n   '__reduce__',\n   '__reduce_ex__',\n   '__repr__',\n   '__rmod__',\n   '__rmul__',\n   '__setattr__',\n   '__sizeof__',\n   '__str__',\n   '__subclasshook__',\n   'capitalize',\n   'casefold',\n   'center',\n   'count',\n   'encode',\n   'endswith',\n   'expandtabs',\n   'find',\n   'format',\n   'format_map',\n   'index',\n   'isalnum',\n   'isalpha',\n   'isdecimal',\n   'isdigit',\n   'isidentifier',\n   'islower',\n   'isnumeric',\n   'isprintable',\n   'isspace',\n   'istitle',\n   'isupper',\n   'join',\n   'ljust',\n   'lower',\n   'lstrip',\n   'maketrans',\n   'partition',\n   'replace',\n   'rfind',\n   'rindex',\n   'rjust',\n   'rpartition',\n   'rsplit',\n   'rstrip',\n   'split',\n   'splitlines',\n   'startswith',\n   'strip',\n   'swapcase',\n   'title',\n   'translate',\n   'upper',\n   'zfill'],\n  4: ['__abs__',\n   '__add__',\n   '__and__',\n   '__bool__',\n   '__ceil__',\n   '__class__',\n   '__delattr__',\n   '__dir__',\n   '__divmod__',\n   '__doc__',\n   '__eq__',\n   '__float__',\n   '__floor__',\n   '__floordiv__',\n   '__format__',\n   '__ge__',\n   '__getattribute__',\n   '__getnewargs__',\n   '__gt__',\n   '__hash__',\n   '__index__',\n   '__init__',\n   '__init_subclass__',\n   '__int__',\n   '__invert__',\n   '__le__',\n   '__lshift__',\n   '__lt__',\n   '__mod__',\n   '__mul__',\n   '__ne__',\n   '__neg__',\n   '__new__',\n   '__or__',\n   '__pos__',\n   '__pow__',\n   '__radd__',\n   '__rand__',\n   '__rdivmod__',\n   '__reduce__',\n   '__reduce_ex__',\n   '__repr__',\n   '__rfloordiv__',\n   '__rlshift__',\n   '__rmod__',\n   '__rmul__',\n   '__ror__',\n   '__round__',\n   '__rpow__',\n   '__rrshift__',\n   '__rshift__',\n   '__rsub__',\n   '__rtruediv__',\n   '__rxor__',\n   '__setattr__',\n   '__sizeof__',\n   '__str__',\n   '__sub__',\n   '__subclasshook__',\n   '__truediv__',\n   '__trunc__',\n   '__xor__',\n   'bit_length',\n   'conjugate',\n   'denominator',\n   'from_bytes',\n   'imag',\n   'numerator',\n   'real',\n   'to_bytes']},\n '_sh': <module 'IPython.core.shadowns' from 'C:\\\\Python\\\\3.6\\\\lib\\\\site-packages\\\\IPython\\\\core\\\\shadowns.py'>,\n 'a': True,\n 'exit': <IPython.core.autocall.ZMQExitAutocall at 0x4184cb0>,\n 'get_ipython': <bound method InteractiveShell.get_ipython of <ipykernel.zmqshell.ZMQInteractiveShell object at 0x04127AF0>>,\n 'quit': <IPython.core.autocall.ZMQExitAutocall at 0x4184cb0>}"
      ]
     },
     "execution_count": 5,
     "metadata": {},
     "output_type": "execute_result"
    }
   ],
   "source": [
    "locals()"
   ]
  },
  {
   "cell_type": "code",
   "execution_count": null,
   "metadata": {},
   "outputs": [],
   "source": [
    ""
   ]
  }
 ],
 "metadata": {
  "kernelspec": {
   "display_name": "Python 2",
   "language": "python",
   "name": "python2"
  },
  "language_info": {
   "codemirror_mode": {
    "name": "ipython",
    "version": 2.0
   },
   "file_extension": ".py",
   "mimetype": "text/x-python",
   "name": "python",
   "nbconvert_exporter": "python",
   "pygments_lexer": "ipython2",
   "version": "2.7.6"
  }
 },
 "nbformat": 4,
 "nbformat_minor": 0
}