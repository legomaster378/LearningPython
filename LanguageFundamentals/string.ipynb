{
 "cells": [
  {
   "cell_type": "code",
   "execution_count": 14,
   "metadata": {
    "collapsed": false
   },
   "outputs": [
    {
     "name": "stdout",
     "output_type": "stream",
     "text": [
      "word[0]: P\nword[1]: y\nword[2]: t\nword[3]: h\nword[4]: o\nword[5]: n\nword[-1]: n\nword[-2]: o\nword[-3]: h\nword[-4]: t\nword[-5]: y\nword[-6]: P\nword[2:5]: tho\n"
     ]
    }
   ],
   "source": [
    "word = \"Python\"\n",
    "print('word[0]: {0}'.format(word[0]))\n",
    "print('word[1]: {0}'.format(word[1]))\n",
    "print('word[2]: {0}'.format(word[2]))\n",
    "print('word[3]: {0}'.format(word[3]))\n",
    "print('word[4]: {0}'.format(word[4]))\n",
    "print('word[5]: {0}'.format(word[5]))\n",
    "print('word[-1]: {0}'.format(word[-1]))\n",
    "print('word[-2]: {0}'.format(word[-2]))\n",
    "print('word[-3]: {0}'.format(word[-3]))\n",
    "print('word[-4]: {0}'.format(word[-4]))\n",
    "print('word[-5]: {0}'.format(word[-5]))\n",
    "print('word[-6]: {0}'.format(word[-6]))\n",
    "print('word[2:5]: {0}'.format(word[2:5]))"
   ]
  },
  {
   "cell_type": "code",
   "execution_count": null,
   "metadata": {},
   "outputs": [],
   "source": [
    ""
   ]
  },
  {
   "cell_type": "code",
   "execution_count": 10,
   "metadata": {},
   "outputs": [
    {
     "name": "stdout",
     "output_type": "stream",
     "text": [
      "a, b, c\na, b, c\n"
     ]
    }
   ],
   "source": [
    "# https://docs.python.org/3/library/string.html#formatexamples\n",
    "print('{0}, {1}, {2}'.format('a', 'b', 'c'))\n",
    "print('{}, {}, {}'.format('a', 'b', 'c'))"
   ]
  },
  {
   "cell_type": "code",
   "execution_count": 1,
   "metadata": {},
   "outputs": [
    {
     "data": {
      "text/plain": [
       "'My name is Fred, my age next year is 51, my anniversary is Saturday, October 12, 1991.'"
      ]
     },
     "execution_count": 1,
     "metadata": {},
     "output_type": "execute_result"
    }
   ],
   "source": [
    "# https://www.python.org/dev/peps/pep-0498/\n",
    "# Literal String Interpolation\n",
    "import datetime\n",
    "name = 'Fred'\n",
    "age = 50\n",
    "anniversary = datetime.date(1991, 10, 12)\n",
    "f'My name is {name}, my age next year is {age+1}, my anniversary is {anniversary:%A, %B %d, %Y}.'"
   ]
  },
  {
   "cell_type": "code",
   "execution_count": 2,
   "metadata": {},
   "outputs": [],
   "source": [
    ""
   ]
  },
  {
   "cell_type": "code",
   "execution_count": null,
   "metadata": {},
   "outputs": [],
   "source": [
    ""
   ]
  }
 ],
 "metadata": {
  "kernelspec": {
   "display_name": "Python 2",
   "language": "python",
   "name": "python2"
  },
  "language_info": {
   "codemirror_mode": {
    "name": "ipython",
    "version": 2.0
   },
   "file_extension": ".py",
   "mimetype": "text/x-python",
   "name": "python",
   "nbconvert_exporter": "python",
   "pygments_lexer": "ipython2",
   "version": "2.7.6"
  }
 },
 "nbformat": 4,
 "nbformat_minor": 0
}