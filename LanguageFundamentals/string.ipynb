{
 "cells": [
  {
   "cell_type": "code",
   "execution_count": 7,
   "metadata": {
    "collapsed": true
   },
   "outputs": [
    {
     "name": "stdout",
     "output_type": "stream",
     "text": [
      "word[0]:P\nword[5]:n\nword[-1]:n\nword[-2]:o\nword[-6]:P\n"
     ]
    }
   ],
   "source": [
    "word = \"Python\"\n",
    "print('word[0]:{0}'.format(word[0]))\n",
    "print('word[5]:{0}'.format(word[5]))\n",
    "print('word[-1]:{0}'.format(word[-1]))\n",
    "print('word[-2]:{0}'.format(word[-2]))\n",
    "print('word[-6]:{0}'.format(word[-6]))"
   ]
  },
  {
   "cell_type": "code",
   "execution_count": 10,
   "metadata": {},
   "outputs": [
    {
     "name": "stdout",
     "output_type": "stream",
     "text": [
      "a, b, c\na, b, c\n"
     ]
    }
   ],
   "source": [
    "# https://docs.python.org/3/library/string.html#formatexamples\n",
    "print('{0}, {1}, {2}'.format('a', 'b', 'c'))\n",
    "print('{}, {}, {}'.format('a', 'b', 'c'))"
   ]
  },
  {
   "cell_type": "code",
   "execution_count": null,
   "metadata": {},
   "outputs": [],
   "source": [
    ""
   ]
  }
 ],
 "metadata": {
  "kernelspec": {
   "display_name": "Python 2",
   "language": "python",
   "name": "python2"
  },
  "language_info": {
   "codemirror_mode": {
    "name": "ipython",
    "version": 2.0
   },
   "file_extension": ".py",
   "mimetype": "text/x-python",
   "name": "python",
   "nbconvert_exporter": "python",
   "pygments_lexer": "ipython2",
   "version": "2.7.6"
  }
 },
 "nbformat": 4,
 "nbformat_minor": 0
}